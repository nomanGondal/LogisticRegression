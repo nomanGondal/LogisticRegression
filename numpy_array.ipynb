{
  "nbformat": 4,
  "nbformat_minor": 0,
  "metadata": {
    "colab": {
      "provenance": [],
      "authorship_tag": "ABX9TyMXIoQBMFmvp538YU3Sxgwg",
      "include_colab_link": true
    },
    "kernelspec": {
      "name": "python3",
      "display_name": "Python 3"
    },
    "language_info": {
      "name": "python"
    }
  },
  "cells": [
    {
      "cell_type": "markdown",
      "metadata": {
        "id": "view-in-github",
        "colab_type": "text"
      },
      "source": [
        "<a href=\"https://colab.research.google.com/github/nomanGondal/LogisticRegression/blob/main/numpy_array.ipynb\" target=\"_parent\"><img src=\"https://colab.research.google.com/assets/colab-badge.svg\" alt=\"Open In Colab\"/></a>"
      ]
    },
    {
      "cell_type": "code",
      "execution_count": null,
      "metadata": {
        "id": "Qr7eauMOrFih"
      },
      "outputs": [],
      "source": [
        "import numpy as np"
      ]
    },
    {
      "cell_type": "code",
      "source": [
        "arr =np.array([1,2,3,4,5,6,7,8,9,10])\n",
        "print(arr)\n",
        "print(type(arr))"
      ],
      "metadata": {
        "colab": {
          "base_uri": "https://localhost:8080/"
        },
        "id": "bngGevPZrTss",
        "outputId": "ea5deb35-c4a3-463a-8d3b-ee1357e6031d"
      },
      "execution_count": null,
      "outputs": [
        {
          "output_type": "stream",
          "name": "stdout",
          "text": [
            "[ 1  2  3  4  5  6  7  8  9 10]\n",
            "<class 'numpy.ndarray'>\n"
          ]
        }
      ]
    },
    {
      "cell_type": "code",
      "source": [
        "\n",
        "print(arr[2])\n"
      ],
      "metadata": {
        "colab": {
          "base_uri": "https://localhost:8080/"
        },
        "id": "lAR8arv_rrvB",
        "outputId": "a46a99e8-0892-429b-9c61-9fb25f36c389"
      },
      "execution_count": null,
      "outputs": [
        {
          "output_type": "stream",
          "name": "stdout",
          "text": [
            "3\n"
          ]
        }
      ]
    },
    {
      "cell_type": "markdown",
      "source": [
        "### **Dimensionalities**"
      ],
      "metadata": {
        "id": "56jS8vIZtSmb"
      }
    },
    {
      "cell_type": "code",
      "source": [
        "arr1=np.array(20) #zero dim..\n",
        "print(arr1)\n"
      ],
      "metadata": {
        "colab": {
          "base_uri": "https://localhost:8080/"
        },
        "id": "tiaNXnU-sCG7",
        "outputId": "929d9133-2b38-4b24-f270-47b728a73582"
      },
      "execution_count": null,
      "outputs": [
        {
          "output_type": "stream",
          "name": "stdout",
          "text": [
            "20\n"
          ]
        }
      ]
    },
    {
      "cell_type": "code",
      "source": [
        "print(arr1.shape)"
      ],
      "metadata": {
        "colab": {
          "base_uri": "https://localhost:8080/"
        },
        "id": "y-pA-RZts5eq",
        "outputId": "580ebac7-105b-463c-9531-060337c2a60c"
      },
      "execution_count": null,
      "outputs": [
        {
          "output_type": "stream",
          "name": "stdout",
          "text": [
            "()\n"
          ]
        }
      ]
    },
    {
      "cell_type": "code",
      "source": [
        "arr=np.array([20,45]) #1D\n",
        "print(arr)"
      ],
      "metadata": {
        "colab": {
          "base_uri": "https://localhost:8080/"
        },
        "id": "sGTgbGfqtQRD",
        "outputId": "fcb6de51-4639-43fe-ea7d-43e63c58e079"
      },
      "execution_count": null,
      "outputs": [
        {
          "output_type": "stream",
          "name": "stdout",
          "text": [
            "[20 45]\n"
          ]
        }
      ]
    },
    {
      "cell_type": "code",
      "source": [
        "print(arr.shape)"
      ],
      "metadata": {
        "colab": {
          "base_uri": "https://localhost:8080/"
        },
        "id": "6yU8cUxFuJlG",
        "outputId": "83bb80c1-9d00-4a43-f1e3-fa38d218b4c7"
      },
      "execution_count": null,
      "outputs": [
        {
          "output_type": "stream",
          "name": "stdout",
          "text": [
            "(2,)\n"
          ]
        }
      ]
    },
    {
      "cell_type": "code",
      "source": [
        "print(arr1.ndim)"
      ],
      "metadata": {
        "colab": {
          "base_uri": "https://localhost:8080/"
        },
        "id": "rGGXzylmvGEY",
        "outputId": "181ce4b5-7b0c-41c0-927e-0c33dcf9693a"
      },
      "execution_count": null,
      "outputs": [
        {
          "output_type": "stream",
          "name": "stdout",
          "text": [
            "1\n"
          ]
        }
      ]
    },
    {
      "cell_type": "code",
      "source": [
        "arr1=np.array([[20,30,40,50],[9,8,5,5],[2,3,4,5]]) #1D note: the no. of values are equals in all dim..\n",
        "print(arr1)"
      ],
      "metadata": {
        "colab": {
          "base_uri": "https://localhost:8080/"
        },
        "id": "hFQCd5QUvlzf",
        "outputId": "a52d4021-63c7-4c29-d471-03544c7b2c0e"
      },
      "execution_count": null,
      "outputs": [
        {
          "output_type": "stream",
          "name": "stdout",
          "text": [
            "[[20 30 40 50]\n",
            " [ 9  8  5  5]\n",
            " [ 2  3  4  5]]\n"
          ]
        }
      ]
    },
    {
      "cell_type": "code",
      "source": [
        "print(arr1.shape)"
      ],
      "metadata": {
        "colab": {
          "base_uri": "https://localhost:8080/"
        },
        "id": "TsCxTFxg0gzk",
        "outputId": "987e0957-fc43-4e31-a067-1413f5cd645f"
      },
      "execution_count": null,
      "outputs": [
        {
          "output_type": "stream",
          "name": "stdout",
          "text": [
            "(3, 4)\n"
          ]
        }
      ]
    },
    {
      "cell_type": "code",
      "source": [
        "print(arr1.ndim)"
      ],
      "metadata": {
        "colab": {
          "base_uri": "https://localhost:8080/"
        },
        "id": "S67eO3Imwq1D",
        "outputId": "717a74c2-a218-429a-aa99-3febb45166bf"
      },
      "execution_count": null,
      "outputs": [
        {
          "output_type": "stream",
          "name": "stdout",
          "text": [
            "2\n"
          ]
        }
      ]
    },
    {
      "cell_type": "code",
      "source": [
        "arr_3d=np.array([[[20,30,40,50],[9,8,5,5],[2,3,4,5]],[[20,30,40,50],[9,80,5,5],[2,3,4,5]]]) #3D note: In NumPy, a 3D array is like a collection of 2D arrays stacked on top of each other\n",
        "print(arr_3d)"
      ],
      "metadata": {
        "colab": {
          "base_uri": "https://localhost:8080/"
        },
        "id": "nf4ayOBwytpW",
        "outputId": "5a98c173-d85c-4c68-e2fb-e75b14f93750"
      },
      "execution_count": null,
      "outputs": [
        {
          "output_type": "stream",
          "name": "stdout",
          "text": [
            "[[[20 30 40 50]\n",
            "  [ 9  8  5  5]\n",
            "  [ 2  3  4  5]]\n",
            "\n",
            " [[20 30 40 50]\n",
            "  [ 9 80  5  5]\n",
            "  [ 2  3  4  5]]]\n"
          ]
        }
      ]
    },
    {
      "cell_type": "code",
      "source": [
        "print(arr_3d.ndim)"
      ],
      "metadata": {
        "colab": {
          "base_uri": "https://localhost:8080/"
        },
        "id": "bJTeiXn_z_HV",
        "outputId": "d7a059aa-f85a-4b8f-a38e-cfe2049b9a51"
      },
      "execution_count": null,
      "outputs": [
        {
          "output_type": "stream",
          "name": "stdout",
          "text": [
            "3\n"
          ]
        }
      ]
    },
    {
      "cell_type": "code",
      "source": [
        "print(arr_3d.shape) #2 → Number of layers\n",
        "#3 → Rows in each layer\n",
        "#4 → Columns in each row"
      ],
      "metadata": {
        "colab": {
          "base_uri": "https://localhost:8080/"
        },
        "id": "RDPXHMca0Eww",
        "outputId": "430a3163-0ada-42ed-d147-a8f2e1ba1746"
      },
      "execution_count": null,
      "outputs": [
        {
          "output_type": "stream",
          "name": "stdout",
          "text": [
            "(2, 3, 4)\n"
          ]
        }
      ]
    },
    {
      "cell_type": "code",
      "source": [
        "print(arr_3d[1][1][1])  #[layer][row][column]"
      ],
      "metadata": {
        "colab": {
          "base_uri": "https://localhost:8080/"
        },
        "id": "z2OEcDIp1rRc",
        "outputId": "a0823751-42aa-4547-9b7c-621b0a6f1e13"
      },
      "execution_count": null,
      "outputs": [
        {
          "output_type": "stream",
          "name": "stdout",
          "text": [
            "80\n"
          ]
        }
      ]
    },
    {
      "cell_type": "code",
      "source": [
        "ones_3d = np.ones((2, 6, 4))\n",
        "print(ones_3d)"
      ],
      "metadata": {
        "colab": {
          "base_uri": "https://localhost:8080/"
        },
        "id": "hsRcFuTi25DZ",
        "outputId": "453a3cb3-c736-4ca5-a25c-7e471e7cdbd5"
      },
      "execution_count": null,
      "outputs": [
        {
          "output_type": "stream",
          "name": "stdout",
          "text": [
            "[[[1. 1. 1. 1.]\n",
            "  [1. 1. 1. 1.]\n",
            "  [1. 1. 1. 1.]\n",
            "  [1. 1. 1. 1.]\n",
            "  [1. 1. 1. 1.]\n",
            "  [1. 1. 1. 1.]]\n",
            "\n",
            " [[1. 1. 1. 1.]\n",
            "  [1. 1. 1. 1.]\n",
            "  [1. 1. 1. 1.]\n",
            "  [1. 1. 1. 1.]\n",
            "  [1. 1. 1. 1.]\n",
            "  [1. 1. 1. 1.]]]\n"
          ]
        }
      ]
    },
    {
      "cell_type": "markdown",
      "source": [
        "**note:**\n",
        "np.array() for manual creation\n",
        "np.arange() + .reshape() for sequential numbers\n",
        "np.zeros() and np.ones() for arrays filled with zeros or ones"
      ],
      "metadata": {
        "id": "D5F9fawL3mqG"
      }
    },
    {
      "cell_type": "code",
      "source": [
        "arr_nd=np.array([1,2,3,4,5] ,ndmin=6) #n dimensions array (no. of sequare bracelets show the no. dims)\n",
        "print(arr_nd)\n",
        "print(arr_nd.shape)"
      ],
      "metadata": {
        "colab": {
          "base_uri": "https://localhost:8080/"
        },
        "id": "gS2TBD1Q4aL-",
        "outputId": "4ccee366-41ab-46d9-c750-5f0dd0e89f9e"
      },
      "execution_count": null,
      "outputs": [
        {
          "output_type": "stream",
          "name": "stdout",
          "text": [
            "[[[[[[1 2 3 4 5]]]]]]\n",
            "(1, 1, 1, 1, 1, 5)\n"
          ]
        }
      ]
    },
    {
      "cell_type": "markdown",
      "source": [
        ".ndim → Number of dimensions\n",
        "\n",
        ".shape → Shape of the array (rows, columns, etc.)\n",
        "\n",
        ".size → Total number of elements\n",
        "\n",
        ".dtype → Data type of elements"
      ],
      "metadata": {
        "id": "TyCy08Tt88Oj"
      }
    },
    {
      "cell_type": "code",
      "source": [
        "arr_fun = np.array([[1, 2, 3], [4, 5, 6]])\n",
        "print(arr_fun.ndim)\n",
        "print(arr_fun.shape)\n",
        "print(arr_fun.size)\n",
        "print(arr_fun.dtype)"
      ],
      "metadata": {
        "colab": {
          "base_uri": "https://localhost:8080/"
        },
        "id": "BSYk8A708x7e",
        "outputId": "1d2c9e35-6a48-4246-dc63-1db90c71623e"
      },
      "execution_count": null,
      "outputs": [
        {
          "output_type": "stream",
          "name": "stdout",
          "text": [
            "2\n",
            "(2, 3)\n",
            "6\n",
            "int64\n"
          ]
        }
      ]
    },
    {
      "cell_type": "code",
      "source": [
        "random_arr=np.random.rand(2, 3) #random creation of array\n",
        "print(random_arr)"
      ],
      "metadata": {
        "colab": {
          "base_uri": "https://localhost:8080/"
        },
        "id": "3oezOdrC9vVy",
        "outputId": "1924bc38-5383-414a-ff90-c549ed9ede0b"
      },
      "execution_count": null,
      "outputs": [
        {
          "output_type": "stream",
          "name": "stdout",
          "text": [
            "[[0.51696793 0.8836648  0.98320292]\n",
            " [0.05016721 0.24359477 0.16098788]]\n"
          ]
        }
      ]
    },
    {
      "cell_type": "code",
      "source": [
        "random_arrint = np.random.randint(0, 10, (2, 3)) #control the type of data\n",
        "print(random_arrint)"
      ],
      "metadata": {
        "colab": {
          "base_uri": "https://localhost:8080/"
        },
        "id": "4rICfQOL-TlA",
        "outputId": "4c558774-2a60-4de2-91d9-61f85d161ebc"
      },
      "execution_count": null,
      "outputs": [
        {
          "output_type": "stream",
          "name": "stdout",
          "text": [
            "[[8 7 8]\n",
            " [7 0 4]]\n"
          ]
        }
      ]
    },
    {
      "cell_type": "code",
      "source": [
        "arr11=np.array([1,2,3,4,5,6,7,8,9,10]) #sum of two arrays\n",
        "arr22=np.array([1,2,3,4,5,6,7,8,9,10])\n",
        "arr_sum=arr11+arr22\n",
        "print(arr_sum)"
      ],
      "metadata": {
        "colab": {
          "base_uri": "https://localhost:8080/"
        },
        "id": "7M8nzM6fOpd1",
        "outputId": "3c1388b8-3035-4feb-f097-81f5f415e101"
      },
      "execution_count": null,
      "outputs": [
        {
          "output_type": "stream",
          "name": "stdout",
          "text": [
            "[ 2  4  6  8 10 12 14 16 18 20]\n"
          ]
        }
      ]
    },
    {
      "cell_type": "markdown",
      "source": [
        "**Join of two array**"
      ],
      "metadata": {
        "id": "mlhEh0AYPrnP"
      }
    },
    {
      "cell_type": "code",
      "source": [
        "arr11=np.array([1,2,3,4,5,6,7,8,9,10]) #sum of two arrays\n",
        "arr22=np.array([1,2,3,4,5,6,7,8,9,10])\n",
        "arr_con=np.concatenate((arr11,arr22))\n",
        "print(arr_con)"
      ],
      "metadata": {
        "colab": {
          "base_uri": "https://localhost:8080/"
        },
        "id": "aLtUdezHPLmb",
        "outputId": "60056d24-c075-4f18-d17b-efba9cc0ecab"
      },
      "execution_count": null,
      "outputs": [
        {
          "output_type": "stream",
          "name": "stdout",
          "text": [
            "[ 1  2  3  4  5  6  7  8  9 10  1  2  3  4  5  6  7  8  9 10]\n"
          ]
        }
      ]
    },
    {
      "cell_type": "markdown",
      "source": [
        "close : slicing and concatenate are pendaning for practical"
      ],
      "metadata": {
        "id": "Du3Fs3viUGfL"
      }
    },
    {
      "cell_type": "markdown",
      "source": [
        "# **concatenate 1D array**"
      ],
      "metadata": {
        "id": "M_980Wzlam7J"
      }
    },
    {
      "cell_type": "code",
      "source": [
        "arr_1= np.array([1, 2, 3])   # Shape: (3,)\n",
        "arr_2 = np.array([4, 5, 6])   # Shape: (3,)\n",
        "\n",
        "result = np.concatenate((arr_1, arr_2))\n",
        "print(result)\n"
      ],
      "metadata": {
        "colab": {
          "base_uri": "https://localhost:8080/"
        },
        "id": "4QUupfjoZoNz",
        "outputId": "392ab2ee-34a4-474a-fee3-84d2136416a2"
      },
      "execution_count": null,
      "outputs": [
        {
          "output_type": "stream",
          "name": "stdout",
          "text": [
            "[1 2 3 4 5 6]\n"
          ]
        }
      ]
    },
    {
      "cell_type": "markdown",
      "source": [
        "# concatenate 2D array"
      ],
      "metadata": {
        "id": "zQXlb-8tbO2x"
      }
    },
    {
      "cell_type": "markdown",
      "source": [
        "1D + 1D → Directly possible.\n",
        "\n",
        "2D + 2D → Possible if row/column sizes match.\n",
        "\n",
        "3D + 3D → Possible if the shape matches except along the concatenation axis.\n",
        "\n",
        "1D + 2D + 3D → Requires reshaping (expand_dims() or reshape())."
      ],
      "metadata": {
        "id": "sup7zurikLt6"
      }
    },
    {
      "cell_type": "code",
      "source": [
        "arr1 = np.array([[1, 2, 3], [4, 5, 6]])  # Shape: (2, 3)\n",
        "arr2 = np.array([[7, 8, 9], [10, 11, 12]])  # Shape: (2, 3)\n",
        "result = np.concatenate((arr1, arr2), axis=0)  # Concatenating row-wise\n",
        "print(result)"
      ],
      "metadata": {
        "colab": {
          "base_uri": "https://localhost:8080/"
        },
        "id": "vs8CCGLfbUin",
        "outputId": "d2da97ca-bb56-4e3d-8167-029449339df4"
      },
      "execution_count": null,
      "outputs": [
        {
          "output_type": "stream",
          "name": "stdout",
          "text": [
            "[[ 1  2  3]\n",
            " [ 4  5  6]\n",
            " [ 7  8  9]\n",
            " [10 11 12]]\n"
          ]
        }
      ]
    },
    {
      "cell_type": "code",
      "source": [
        "arr1c = np.array([[1, 2, 3], [4, 5, 6]])  # Shape: (2, 3)\n",
        "arr2c = np.array([[7, 8, 9], [10, 11, 12]])  # Shape: (2, 3)\n",
        "result = np.concatenate((arr1, arr2), axis=1)  # Concatenating column-wise\n",
        "\n",
        "print(result)"
      ],
      "metadata": {
        "colab": {
          "base_uri": "https://localhost:8080/"
        },
        "id": "TFGOyxeocKZe",
        "outputId": "924b5de6-4f4e-4694-faad-c3c029f01d00"
      },
      "execution_count": null,
      "outputs": [
        {
          "output_type": "stream",
          "name": "stdout",
          "text": [
            "[[ 1  2  3  7  8  9]\n",
            " [ 4  5  6 10 11 12]]\n"
          ]
        }
      ]
    },
    {
      "cell_type": "markdown",
      "source": [
        "# **3D**"
      ],
      "metadata": {
        "id": "tQ7PnPuPke0O"
      }
    },
    {
      "cell_type": "code",
      "source": [
        "arr1 = np.array([[[1, 2], [3, 4]]])   # Shape: (1, 2, 2)\n",
        "arr2 = np.array([[[5, 6], [7, 8]]])   # Shape: (1, 2, 2)\n",
        "\n",
        "result = np.concatenate((arr1, arr2), axis=0)  # Concatenating along depth\n",
        "print(result)\n"
      ],
      "metadata": {
        "colab": {
          "base_uri": "https://localhost:8080/"
        },
        "id": "dvyWR_2yeWI-",
        "outputId": "4a164891-256e-4c40-bbd5-1d6536d4931b"
      },
      "execution_count": null,
      "outputs": [
        {
          "output_type": "stream",
          "name": "stdout",
          "text": [
            "[[[1 2]\n",
            "  [3 4]]\n",
            "\n",
            " [[5 6]\n",
            "  [7 8]]]\n"
          ]
        }
      ]
    },
    {
      "cell_type": "markdown",
      "source": [
        "# ✂#**slicing**"
      ],
      "metadata": {
        "id": "SfuFQ8nhk3T3"
      }
    },
    {
      "cell_type": "markdown",
      "source": [
        "Slicing means extracting specific portions of an array using index ranges.\n",
        "\n",
        "It allows us to work with subarrays without modifying the original array.\n",
        "\n",
        "array[start:stop:step]\n",
        "\n",
        "start → The index where slicing starts (inclusive).\n",
        "\n",
        "stop → The index where slicing stops (exclusive).\n",
        "\n",
        "step → Defines the step size (default is 1).\n"
      ],
      "metadata": {
        "id": "V0YkMNsOk9RA"
      }
    },
    {
      "cell_type": "code",
      "source": [
        "arr = np.array([10, 20, 30, 40, 50, 60, 70])\n",
        "s_arr=arr[1:5]\n",
        "print(s_arr)  # Slicing from index 1 to 4"
      ],
      "metadata": {
        "colab": {
          "base_uri": "https://localhost:8080/"
        },
        "id": "gnDYmUsrkKGM",
        "outputId": "a79bc007-c984-4fb6-cf7a-6c8b1283659d"
      },
      "execution_count": null,
      "outputs": [
        {
          "output_type": "stream",
          "name": "stdout",
          "text": [
            "[20 30 40 50]\n"
          ]
        }
      ]
    },
    {
      "cell_type": "code",
      "source": [
        "arr = np.array([10, 20, 30, 40, 50, 60, 70])\n",
        "s_arr=arr[0:6:2]\n",
        "print(s_arr)  #0, 0+2=2, 2+2=4,"
      ],
      "metadata": {
        "colab": {
          "base_uri": "https://localhost:8080/"
        },
        "id": "Hs1ufwq8nCsI",
        "outputId": "4c4238d8-9ed6-4606-eb62-a4d666480b67"
      },
      "execution_count": null,
      "outputs": [
        {
          "output_type": "stream",
          "name": "stdout",
          "text": [
            "[10 30 50]\n"
          ]
        }
      ]
    },
    {
      "cell_type": "code",
      "source": [
        "arr = np.array([10, 20, 30, 40, 50, 60, 70])\n",
        "\n",
        "print(arr[:4])   # From start to index 3\n",
        "print(arr[3:])   # From index 3 to end\n",
        "print(arr[::2])  # Every 2nd element\n"
      ],
      "metadata": {
        "colab": {
          "base_uri": "https://localhost:8080/"
        },
        "id": "p-hfEC9NniB0",
        "outputId": "425ac816-cc90-4e31-8dc2-206de3e90d82"
      },
      "execution_count": null,
      "outputs": [
        {
          "output_type": "stream",
          "name": "stdout",
          "text": [
            "[10 20 30 40]\n",
            "[40 50 60 70]\n",
            "[10 30 50 70]\n"
          ]
        }
      ]
    },
    {
      "cell_type": "markdown",
      "source": [
        " **Negative indexing**\n",
        " negative indexing start from 1"
      ],
      "metadata": {
        "id": "gK1cxN1Hnud2"
      }
    },
    {
      "cell_type": "code",
      "source": [
        "print(arr[-4:-1])  # From 4th last to 2nd last element\n",
        "print(arr[::-1])   # Reverse the array"
      ],
      "metadata": {
        "colab": {
          "base_uri": "https://localhost:8080/"
        },
        "id": "Jg9f2-ppn5BG",
        "outputId": "a245f03d-809d-4660-8ea2-93a084a78465"
      },
      "execution_count": null,
      "outputs": [
        {
          "output_type": "stream",
          "name": "stdout",
          "text": [
            "[40 50 60]\n",
            "[70 60 50 40 30 20 10]\n"
          ]
        }
      ]
    },
    {
      "cell_type": "markdown",
      "source": [
        "## **Slicing in 2D**\n",
        "\n",
        "array[row_start:row_end, column_start:column_end]\n"
      ],
      "metadata": {
        "id": "iZmZ7HompEH0"
      }
    },
    {
      "cell_type": "code",
      "source": [
        "arr2D = np.array([[1, 2, 3, 4],\n",
        "                  [5, 6, 7, 8],\n",
        "                  [9, 10, 11, 12]])\n",
        "print(arr2D)"
      ],
      "metadata": {
        "colab": {
          "base_uri": "https://localhost:8080/"
        },
        "id": "KpH1__CnpHgT",
        "outputId": "fa80fd02-4937-498d-bd8a-0ba223666748"
      },
      "execution_count": null,
      "outputs": [
        {
          "output_type": "stream",
          "name": "stdout",
          "text": [
            "[[ 1  2  3  4]\n",
            " [ 5  6  7  8]\n",
            " [ 9 10 11 12]]\n"
          ]
        }
      ]
    },
    {
      "cell_type": "code",
      "source": [
        "print(arr2D[1: , 2:])"
      ],
      "metadata": {
        "colab": {
          "base_uri": "https://localhost:8080/"
        },
        "id": "r_4uEIc1p2In",
        "outputId": "04fadac0-ce91-476c-80af-b882e3dff62b"
      },
      "execution_count": null,
      "outputs": [
        {
          "output_type": "stream",
          "name": "stdout",
          "text": [
            "[[ 7  8]\n",
            " [11 12]]\n"
          ]
        }
      ]
    },
    {
      "cell_type": "code",
      "source": [
        "print(arr2D[1, :])  # Entire 2nd row(single row)"
      ],
      "metadata": {
        "colab": {
          "base_uri": "https://localhost:8080/"
        },
        "id": "GTdMi-x_qlYy",
        "outputId": "dd252c5f-a58f-4cc4-c6d9-f12eb8d2a542"
      },
      "execution_count": null,
      "outputs": [
        {
          "output_type": "stream",
          "name": "stdout",
          "text": [
            "[5 6 7 8]\n"
          ]
        }
      ]
    },
    {
      "cell_type": "code",
      "source": [
        "print(arr2D[:, 2])  # Entire 3rd column\n"
      ],
      "metadata": {
        "colab": {
          "base_uri": "https://localhost:8080/"
        },
        "id": "EZGo5ibOq6SY",
        "outputId": "9b6e9379-04c9-4e6f-945f-126723f7691a"
      },
      "execution_count": null,
      "outputs": [
        {
          "output_type": "stream",
          "name": "stdout",
          "text": [
            "[ 3  7 11]\n"
          ]
        }
      ]
    },
    {
      "cell_type": "code",
      "source": [
        "print(arr2D[::2, ::2])  # Every alternate row & column\n"
      ],
      "metadata": {
        "colab": {
          "base_uri": "https://localhost:8080/"
        },
        "id": "8-uhvCItrGGq",
        "outputId": "16f501af-6693-42a2-e105-7fa51ce70da1"
      },
      "execution_count": null,
      "outputs": [
        {
          "output_type": "stream",
          "name": "stdout",
          "text": [
            "[[ 1  3]\n",
            " [ 9 11]]\n"
          ]
        }
      ]
    },
    {
      "cell_type": "markdown",
      "source": [
        "### **3D**\n",
        "\n",
        "array[depth_start:depth_end, row_start:row_end, column_start:column_end]\n"
      ],
      "metadata": {
        "id": "_HUNeV3xrqsA"
      }
    },
    {
      "cell_type": "markdown",
      "source": [
        "# **Note: **\n",
        "👉 Slicing returns a view, not a copy.\n",
        "\n",
        "Modifying the slice modifies the original array."
      ],
      "metadata": {
        "id": "0Bv1HbUHsjcJ"
      }
    },
    {
      "cell_type": "code",
      "source": [
        "arr = np.array([1, 2, 3, 4, 5])\n",
        "slice_arr = arr[1:4]\n",
        "slice_arr[:] = 99  # Modify slice\n",
        "print(arr)  # Original array is also modified"
      ],
      "metadata": {
        "colab": {
          "base_uri": "https://localhost:8080/"
        },
        "id": "B-DZwYB2s0Ho",
        "outputId": "36021dfd-ef42-474f-bcd6-7ab15b8ac510"
      },
      "execution_count": null,
      "outputs": [
        {
          "output_type": "stream",
          "name": "stdout",
          "text": [
            "[ 1 99 99 99  5]\n"
          ]
        }
      ]
    },
    {
      "cell_type": "markdown",
      "source": [
        "# **Solution: **\n",
        "Use .copy() to avoid modifying the original array."
      ],
      "metadata": {
        "id": "Sat9cfzTs3XO"
      }
    },
    {
      "cell_type": "code",
      "source": [
        "copy_arr = arr[1:4].copy()\n",
        "copy_arr[:] = 50\n",
        "print(arr)  # Original remains unchanged\n"
      ],
      "metadata": {
        "colab": {
          "base_uri": "https://localhost:8080/"
        },
        "id": "8cEkQbdGs7Xi",
        "outputId": "590bf912-5ea9-4bcd-9998-963777851798"
      },
      "execution_count": null,
      "outputs": [
        {
          "output_type": "stream",
          "name": "stdout",
          "text": [
            "[ 1 99 99 99  5]\n"
          ]
        }
      ]
    },
    {
      "cell_type": "markdown",
      "source": [
        "## **Fancy Indexing & Boolean Masking**"
      ],
      "metadata": {
        "id": "r_IGrG8ytYrQ"
      }
    },
    {
      "cell_type": "code",
      "source": [
        "arr = np.array([10, 20, 30, 40, 50])   # Selecting Specific Indices (Fancy Indexing)\n",
        "print(arr[[0, 2, 4]])  # Selecting elements at indices 0, 2, and 4\n"
      ],
      "metadata": {
        "colab": {
          "base_uri": "https://localhost:8080/"
        },
        "id": "z2qRObe1te1E",
        "outputId": "1ca4a37a-44a3-4d7a-b465-fe4d50ed6bb3"
      },
      "execution_count": null,
      "outputs": [
        {
          "output_type": "stream",
          "name": "stdout",
          "text": [
            "[10 30 50]\n"
          ]
        }
      ]
    },
    {
      "cell_type": "code",
      "source": [
        "#boolean Masking\n",
        "\n",
        "arr = np.array([10, 20, 30, 40, 50])\n",
        "mask = arr > 25  # Find elements greater than 25\n",
        "print(arr[mask])"
      ],
      "metadata": {
        "colab": {
          "base_uri": "https://localhost:8080/"
        },
        "id": "sS1mC_0XtuMb",
        "outputId": "9d91fdb3-7e0c-4d86-e800-63c0af8fa777"
      },
      "execution_count": null,
      "outputs": [
        {
          "output_type": "stream",
          "name": "stdout",
          "text": [
            "[30 40 50]\n"
          ]
        }
      ]
    },
    {
      "cell_type": "markdown",
      "source": [
        "## **splitting**\n",
        "Splitting in NumPy means dividing an array into multiple sub-arrays.\n",
        "\n",
        " It is the opposite of concatenation. NumPy provides different functions to split arrays based on the number of parts or specific indices.\n",
        "\n",
        "=> Splitting Returns a Copy (Independent Arrays)\n",
        "\n",
        "When you split an array, each sub-array is a separate copy.\n",
        "Changes in the split arrays do not affect the original array.\n",
        "\n",
        " Use split() for equal splits, array_split() for unequal splits.\n",
        "\n",
        " Use vsplit(), hsplit(), and dsplit() for 2D/3D arrays."
      ],
      "metadata": {
        "id": "opD9d6QIx6TO"
      }
    },
    {
      "cell_type": "code",
      "source": [
        "arr = np.array([10, 20, 30, 40, 50, 60])\n",
        "split_arr = np.split(arr, 3)  # Split into 3 equal parts\n",
        "print(split_arr)\n"
      ],
      "metadata": {
        "colab": {
          "base_uri": "https://localhost:8080/"
        },
        "id": "z75OK1rVyms-",
        "outputId": "c97939a2-dba1-46f1-9db2-d17fc6b05835"
      },
      "execution_count": null,
      "outputs": [
        {
          "output_type": "stream",
          "name": "stdout",
          "text": [
            "[array([10, 20]), array([30, 40]), array([50, 60])]\n"
          ]
        }
      ]
    },
    {
      "cell_type": "code",
      "source": [
        "split_arr = np.split(arr, [2, 4])  # Split at index 2 and 4\n",
        "print(split_arr)\n"
      ],
      "metadata": {
        "colab": {
          "base_uri": "https://localhost:8080/"
        },
        "id": "5vP_abOrzOF0",
        "outputId": "4b351485-ca01-4f63-8cdc-c9ff05102ffc"
      },
      "execution_count": null,
      "outputs": [
        {
          "output_type": "stream",
          "name": "stdout",
          "text": [
            "[array([10, 20]), array([30, 40]), array([50, 60])]\n"
          ]
        }
      ]
    },
    {
      "cell_type": "code",
      "source": [],
      "metadata": {
        "id": "Xftj0R4vzQe7"
      },
      "execution_count": null,
      "outputs": []
    },
    {
      "cell_type": "markdown",
      "source": [
        "# Handling Unequal Splitting – array_split()"
      ],
      "metadata": {
        "id": "8eRMKtOIzYNt"
      }
    },
    {
      "cell_type": "code",
      "source": [
        "split_arr = np.array_split(arr, 4)  # Splitting into 4 unequal parts\n",
        "print(split_arr)\n"
      ],
      "metadata": {
        "colab": {
          "base_uri": "https://localhost:8080/"
        },
        "id": "Vyj_4rgFzb1Q",
        "outputId": "b81212ae-f3dc-4313-98dc-5808b52b7518"
      },
      "execution_count": null,
      "outputs": [
        {
          "output_type": "stream",
          "name": "stdout",
          "text": [
            "[array([10, 20]), array([30, 40]), array([50]), array([60])]\n"
          ]
        }
      ]
    },
    {
      "cell_type": "code",
      "source": [
        "c=np.array([[[1,2,3]]])\n",
        "print(c)\n",
        "print(c.ndim)\n",
        "print(c.shape)"
      ],
      "metadata": {
        "colab": {
          "base_uri": "https://localhost:8080/"
        },
        "id": "M8cZGdrsWS32",
        "outputId": "1a96a161-d182-4b92-9c7c-974ace48e7fc"
      },
      "execution_count": null,
      "outputs": [
        {
          "output_type": "stream",
          "name": "stdout",
          "text": [
            "[[[1 2 3]]]\n",
            "3\n",
            "(1, 1, 3)\n"
          ]
        }
      ]
    },
    {
      "cell_type": "code",
      "source": [
        "d=c.ravel()  #ravel function Convert multiDim  into 1D (flattened)\n",
        "print(d.ndim)\n",
        "print(d)\n"
      ],
      "metadata": {
        "colab": {
          "base_uri": "https://localhost:8080/"
        },
        "id": "OXGCBHzwXueG",
        "outputId": "09c0e0d3-80bc-480f-cc18-37f1d332e1b0"
      },
      "execution_count": null,
      "outputs": [
        {
          "output_type": "stream",
          "name": "stdout",
          "text": [
            "1\n",
            "[1 2 3]\n"
          ]
        }
      ]
    },
    {
      "cell_type": "code",
      "source": [
        "#and if we convert 3d into 2d then use reshape instead\n",
        "\n",
        "arr3D = np.array([\n",
        "    [[1, 2, 3, 4],\n",
        "     [5, 6, 7, 8],\n",
        "     [9, 10, 11, 12]],\n",
        "\n",
        "    [[13, 14, 15, 16],\n",
        "     [17, 18, 19, 20],\n",
        "     [21, 22, 23, 24]]\n",
        "])\n",
        "\n",
        "print(arr3D.ndim)"
      ],
      "metadata": {
        "colab": {
          "base_uri": "https://localhost:8080/"
        },
        "id": "qd5Sxa49ZlPH",
        "outputId": "c9af0738-0db5-4abd-8e54-b1075c7665b5"
      },
      "execution_count": null,
      "outputs": [
        {
          "output_type": "stream",
          "name": "stdout",
          "text": [
            "3\n"
          ]
        }
      ]
    },
    {
      "cell_type": "code",
      "source": [
        "arr2D=arr3D.reshape(-1,4)\n",
        "print(arr2D.ndim)"
      ],
      "metadata": {
        "colab": {
          "base_uri": "https://localhost:8080/"
        },
        "id": "yqgz6qkfZ5JS",
        "outputId": "a3b6cfd8-107e-4dde-efb6-d6e5971acc02"
      },
      "execution_count": null,
      "outputs": [
        {
          "output_type": "stream",
          "name": "stdout",
          "text": [
            "2\n"
          ]
        }
      ]
    },
    {
      "cell_type": "code",
      "source": [],
      "metadata": {
        "id": "oCIuoEEraWgI"
      },
      "execution_count": null,
      "outputs": []
    },
    {
      "cell_type": "markdown",
      "source": [
        "# **unique function**\n",
        "The numpy.unique() function is used to find unique elements in an array and return them in a sorted order.\n",
        "It is useful for removing duplicates from an array.\n",
        "\n",
        "Note:Works on 1D, 2D, and higher-dimensional arrays but always returns unique elements in 1D format."
      ],
      "metadata": {
        "id": "eLb-DICpbZKC"
      }
    },
    {
      "cell_type": "code",
      "source": [
        "#syntax: numpy.unique(arr, return_index=False, return_counts=False, return_inverse=False)\n",
        "#arr--------------->\tInput array\n",
        "#return_index\t----->If True, returns the indices of the first occurrences of unique values\n",
        "#return_counts----->\tIf True, returns the count of each unique element\n"
      ],
      "metadata": {
        "id": "vakDmrJcbjE-"
      },
      "execution_count": null,
      "outputs": []
    },
    {
      "cell_type": "code",
      "source": [
        "arr=np.array([1,2,3,4,4,4,2,6,1,1,6,5,7,8,5])\n",
        "unique_values=np.unique(arr)\n",
        "print(unique_values)"
      ],
      "metadata": {
        "colab": {
          "base_uri": "https://localhost:8080/"
        },
        "id": "S2oasaHGcuIH",
        "outputId": "a4b79f04-f029-4baa-8c3d-789306e92220"
      },
      "execution_count": null,
      "outputs": [
        {
          "output_type": "stream",
          "name": "stdout",
          "text": [
            "[1 2 3 4 5 6 7 8]\n"
          ]
        }
      ]
    },
    {
      "cell_type": "code",
      "source": [
        "unique_values,idx=np.unique(arr,return_index=True)\n",
        "print(unique_values)\n",
        "print(idx)"
      ],
      "metadata": {
        "colab": {
          "base_uri": "https://localhost:8080/"
        },
        "id": "nPrYWOpXdQ3V",
        "outputId": "fab6d8ba-5a8e-4257-c3cd-f1904b70f08c"
      },
      "execution_count": null,
      "outputs": [
        {
          "output_type": "stream",
          "name": "stdout",
          "text": [
            "[1 2 3 4 5 6 7 8]\n",
            "[ 0  1  2  3 11  7 12 13]\n"
          ]
        }
      ]
    },
    {
      "cell_type": "code",
      "source": [
        "unique_values,count=np.unique(arr,return_counts=True)\n",
        "print(unique_values)\n",
        "print(count)"
      ],
      "metadata": {
        "colab": {
          "base_uri": "https://localhost:8080/"
        },
        "id": "w1-xEphVd7xD",
        "outputId": "d8321b6f-4ec9-4d31-f614-85e879f6c3fb"
      },
      "execution_count": null,
      "outputs": [
        {
          "output_type": "stream",
          "name": "stdout",
          "text": [
            "[1 2 3 4 5 6 7 8]\n",
            "[3 2 1 3 2 2 1 1]\n"
          ]
        }
      ]
    },
    {
      "cell_type": "markdown",
      "source": [
        "# **Delete :syntax----> numpy.delete(arr, obj, axis=None)**\n",
        "if axis is none then delete row wise if 1 then delete columns wise"
      ],
      "metadata": {
        "id": "Wbn9lmPnfYCh"
      }
    },
    {
      "cell_type": "code",
      "source": [
        "arr = np.array([10, 20, 30, 40, 50])\n",
        "new_arr = np.delete(arr, 2)  # Delete the element at index 2 (30)\n",
        "\n",
        "print(new_arr)"
      ],
      "metadata": {
        "colab": {
          "base_uri": "https://localhost:8080/"
        },
        "id": "_GEFYYjNfyyt",
        "outputId": "01a314eb-52b8-4ace-90bd-81dfe83138c1"
      },
      "execution_count": null,
      "outputs": [
        {
          "output_type": "stream",
          "name": "stdout",
          "text": [
            "[10 20 40 50]\n"
          ]
        }
      ]
    },
    {
      "cell_type": "code",
      "source": [
        "arr2D = np.array([[1, 2, 3],\n",
        "                  [4, 5, 6],\n",
        "                  [7, 8, 9]])\n",
        "\n",
        "new_arr = np.delete(arr2D, 1, axis=0)  # Delete the 2nd row (index 1)\n",
        "print(new_arr)"
      ],
      "metadata": {
        "colab": {
          "base_uri": "https://localhost:8080/"
        },
        "id": "XdARUvNuf8HL",
        "outputId": "0f8f4ad6-301e-4b99-cdb7-ca15d9da1e34"
      },
      "execution_count": null,
      "outputs": [
        {
          "output_type": "stream",
          "name": "stdout",
          "text": [
            "[[1 2 3]\n",
            " [7 8 9]]\n"
          ]
        }
      ]
    },
    {
      "cell_type": "code",
      "source": [
        "new_arr = np.delete(arr2D, 1, axis=1)  # Delete the 2nd column (index 1)\n",
        "print(new_arr)"
      ],
      "metadata": {
        "colab": {
          "base_uri": "https://localhost:8080/"
        },
        "id": "uNks3LVhgARC",
        "outputId": "5d63b129-fe46-49f8-8c10-203be181b77c"
      },
      "execution_count": null,
      "outputs": [
        {
          "output_type": "stream",
          "name": "stdout",
          "text": [
            "[[1 3]\n",
            " [4 6]\n",
            " [7 9]]\n"
          ]
        }
      ]
    },
    {
      "cell_type": "code",
      "source": [
        "arr = np.array([10, 20, 30, 40, 50])\n",
        "new_arr = np.delete(arr, [1, 3])  # Delete elements at indices 1 and 3\n",
        "print(new_arr)"
      ],
      "metadata": {
        "colab": {
          "base_uri": "https://localhost:8080/"
        },
        "id": "a8xbjeDWgEEf",
        "outputId": "fbf79e6b-7e71-4673-8cf5-178b40388d86"
      },
      "execution_count": null,
      "outputs": [
        {
          "output_type": "stream",
          "name": "stdout",
          "text": [
            "[10 30 50]\n"
          ]
        }
      ]
    }
  ]
}